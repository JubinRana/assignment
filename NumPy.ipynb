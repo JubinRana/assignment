{
  "nbformat": 4,
  "nbformat_minor": 0,
  "metadata": {
    "colab": {
      "provenance": []
    },
    "kernelspec": {
      "name": "python3",
      "display_name": "Python 3"
    },
    "language_info": {
      "name": "python"
    }
  },
  "cells": [
    {
      "cell_type": "markdown",
      "source": [
        "**THEORATICAL** **QUESTIONS**"
      ],
      "metadata": {
        "id": "TFYUlexzftDk"
      }
    },
    {
      "cell_type": "markdown",
      "source": [
        "1/ Explain the purpose and advantages of NumPy in scientific--------- for numerical operations?\n",
        "- NumPy handles advanced mathematical operations such as matrix multiplication,eigenvalue calculations and differential equations.\n",
        "\n",
        "NumPy provides a rich collection of mathematical functions,making it an indispensable tool for scientific computing,linear algebra,statistics,and NumPy for simulations,solving differential equations,numerical integration.\n",
        "\n",
        "It is also used in data science in order to work through numerical analyses and functions,such as creating and working with arrays,returning descriptive statistics and variety of machine learning models and mathematical formulas.\n",
        "\n",
        "It is a Python package for scientific computing,it provides an efficient multi-dimensional array of objects as well as variety of functions for workinf with them,NumPy array is an array of values that is homogenous, axes are the dimensions of an array in NumPy"
      ],
      "metadata": {
        "id": "u9U_BTZWf00M"
      }
    },
    {
      "cell_type": "markdown",
      "source": [
        "2/ Compare the np.mean() and np.average() functions--------others?\n",
        "\n",
        "- In NumPy library there are two functions np.mean() and np.average() are two functions present these two were doing nearly same job of calculating mean/average.\n",
        "\n",
        "np.mean()- This function is used to calculate arithmetic mean and all elements have equal weight, weight cannot be passed through the parameter of the given function. np.mean(arr,axis=None)\n",
        "\n",
        "np.average()- This functions used to calculate the arithmetic mean as well as weighted average, all elements may or may not have equal weight, weight can passed through the parameter of the given functions. np.average(arr,axis=None,weights=None)"
      ],
      "metadata": {
        "id": "wNriUtnLkHR6"
      }
    },
    {
      "cell_type": "markdown",
      "source": [
        "3/ Describe the methods for-----------2D array.\n",
        "\n",
        "- flip()function: it reverse the order of array elements along the specified axis,preserving the shape of the array.\n",
        "\n",
        "list slicing method: this method makes a copy of the list instead of sorting it in order, to accommodate all of the current components, making a clone requires additional room.\n",
        "\n",
        "flipud function: the flip() function flips the array in up-down direction, shape preserved."
      ],
      "metadata": {
        "id": "dc-eSwlhaxNV"
      }
    },
    {
      "cell_type": "code",
      "source": [
        "# 1D and 2D array\n",
        "\n",
        "import numpy as np\n",
        "\n",
        "#creating the list\n",
        "list = [100,200,300,400,500,]\n",
        "\n",
        "#creating 1-d array\n",
        "n = np.array(list)\n",
        "print(n)\n",
        "\n",
        "import numpy as np\n",
        "\n",
        "arr = np.array([[1,2,3,4], [5,6,7,8]])\n",
        "print(arr)\n"
      ],
      "metadata": {
        "colab": {
          "base_uri": "https://localhost:8080/"
        },
        "id": "PwdE-WfTdBtn",
        "outputId": "5aba510f-b88c-48fe-99a2-528f27191038"
      },
      "execution_count": null,
      "outputs": [
        {
          "output_type": "stream",
          "name": "stdout",
          "text": [
            "[100 200 300 400 500]\n",
            "[[1 2 3 4]\n",
            " [5 6 7 8]]\n"
          ]
        }
      ]
    },
    {
      "cell_type": "markdown",
      "source": [
        "4/ How can determine the data type of elements in a numpy-------------performance.\n",
        "\n",
        "- by using\n",
        " dtype\n",
        " array function array()\n"
      ],
      "metadata": {
        "id": "qa7tUMqdehSn"
      }
    },
    {
      "cell_type": "code",
      "source": [
        "# by using dtype\n",
        "\n",
        "import numpy as np\n",
        "\n",
        "arr = np.array([1,2,3,4,5])\n",
        "print('Array:', arr)\n",
        "print('Datatype:', arr.dtype)"
      ],
      "metadata": {
        "colab": {
          "base_uri": "https://localhost:8080/"
        },
        "id": "A04f764Pi7Nz",
        "outputId": "21f67158-b854-4aa3-f682-35711cc0af48"
      },
      "execution_count": null,
      "outputs": [
        {
          "output_type": "stream",
          "name": "stdout",
          "text": [
            "Array: [1 2 3 4 5]\n",
            "Datatype: int64\n"
          ]
        }
      ]
    },
    {
      "cell_type": "code",
      "source": [
        "# by using array()\n",
        "\n",
        "import numpy as np\n",
        "arr = np.array([1,2,3,5,7,8,9], dtype='S')\n",
        "print(\"Array:\", arr)\n",
        "print(\"Datatype:\", arr.dtype)\n"
      ],
      "metadata": {
        "colab": {
          "base_uri": "https://localhost:8080/"
        },
        "id": "ZD8IjszejhRX",
        "outputId": "a545432d-2a38-4869-b43b-d69f8e4d613e"
      },
      "execution_count": null,
      "outputs": [
        {
          "output_type": "stream",
          "name": "stdout",
          "text": [
            "Array: [b'1' b'2' b'3' b'5' b'7' b'8' b'9']\n",
            "Datatype: |S1\n"
          ]
        }
      ]
    },
    {
      "cell_type": "markdown",
      "source": [
        "5/ Define ndarray in NumPy--------------------python list?\n",
        "\n",
        "- An array class in NumPy is called as ndarray, elements in numpy arrays are accessed by using square brackets and can be initialized by using python lists.\n",
        "\n",
        "various ways to create arrays in NumPy\n",
        "-we can create an array from regular python list or tuple using the array function,the type of resulting array is deduced from the type of the elements in the sequence,\n",
        "\n",
        "arange: returns evenly spaced values with in a given interval, step size is specified,\n",
        "linespace: num no. of elements are returned.\n",
        "\n",
        "flatten array: we can use flatten method to get a copy of array collapsed into one dimension.\n",
        "\n",
        "Array indexing:\n",
        "\n",
        "Slicing- NumPy array can be sliced,as an array can be multidimensional, we get need to specify a slice for each dimension of the array\n",
        "\n",
        "Integer array indexing- in this lists are passed for indexing for each dimension, one to one mapping of corresponding elements is done to construct a new arbitrary array.\n",
        "\n",
        "Boolean array indexing- it is used when we want to pick elements from an array which satisfy some conditions"
      ],
      "metadata": {
        "id": "i1a49RllkasE"
      }
    },
    {
      "cell_type": "markdown",
      "source": [
        "6/ Analyze the performance benefits ------------ operations.\n",
        "\n",
        "- Advantages of using Numpy arrays over python lists are:\n",
        "\n",
        "consumes less memory, fast as compared to the pyhton list, convenient to use,\n",
        "\n",
        "In Python list list is built-in data structure that can hold elements of varying data types, but Python NumPy library supports optimized numerical array and matrix operations.\n",
        "\n",
        "The NumPy array store elements of the same datatypes, making them more compact and memory-efficient than lists.\n",
        "\n",
        "Numpy arrays have fixed datatype,reducing memory overhead by eliminating the need to store type information for each element.\n",
        "\n",
        "NumPy arrays are optimized for numerical computations,with efficient element-wise operations and mathematical functions.\n"
      ],
      "metadata": {
        "id": "G7aNCG7juO5F"
      }
    },
    {
      "cell_type": "markdown",
      "source": [
        "7/ Compare vstack() and hstack() functions in numpy-------------examples.\n",
        "-\n",
        "\n",
        "numpy.vstack() function is used to stack the sequence of input arrays vertically to make single array.\n",
        "\n",
        "numpy.hstack() function is used to stack the sequence of input array horizontally to make a single array.\n",
        "\n"
      ],
      "metadata": {
        "id": "0NCsdqD4xGhB"
      }
    },
    {
      "cell_type": "code",
      "source": [
        "# vstack\n",
        "\n",
        "import numpy as np\n",
        "in_arr1 = np.array([1,2,3,4])\n",
        "print (\"1st Input array : \\n\", in_arr1)\n",
        "\n",
        "in_arr2 = np.array([5,6,7,8])\n",
        "print (\"2nd Input array : \\n\", in_arr2)\n",
        "\n",
        "out_arr = np.vstack((in_arr1, in_arr2))\n",
        "print (\"Output vertically stacked array:\\n \", out_arr)\n",
        "\n",
        "out_arr = np.hstack((in_arr1, in_arr2))\n",
        "print (\"Output horizontally stacked array:\\n \", out_arr)\n",
        "\n"
      ],
      "metadata": {
        "colab": {
          "base_uri": "https://localhost:8080/"
        },
        "id": "9MGBbgpf0_Gt",
        "outputId": "58a93b38-544f-4435-95f0-53bbf7827c05"
      },
      "execution_count": null,
      "outputs": [
        {
          "output_type": "stream",
          "name": "stdout",
          "text": [
            "1st Input array : \n",
            " [1 2 3 4]\n",
            "2nd Input array : \n",
            " [5 6 7 8]\n",
            "Output vertically stacked array:\n",
            "  [[1 2 3 4]\n",
            " [5 6 7 8]]\n",
            "Output horizontally stacked array:\n",
            "  [1 2 3 4 5 6 7 8]\n"
          ]
        }
      ]
    },
    {
      "cell_type": "code",
      "source": [],
      "metadata": {
        "id": "fCh0h_dN2Cy5"
      },
      "execution_count": null,
      "outputs": []
    },
    {
      "cell_type": "markdown",
      "source": [
        "8/ Explain the difference between fliplr()and flipud()--------------dimensions.\n",
        "-\n",
        "numpy.fliplr() is used to flip array in left-right direction,shape preserved\n",
        "\n",
        "array : [array_like]Input\n",
        "array, we want to flip\n",
        "\n",
        "numpy.flipud() is used to flip ndarray vertically, up and down, it will return a view shares memory with the original array,changing one value changes the other."
      ],
      "metadata": {
        "id": "REb7bAFZ26sR"
      }
    },
    {
      "cell_type": "code",
      "source": [
        "# fliplr() method\n",
        "\n",
        "import numpy as np\n",
        "array = np.arange(8).reshape((2,2,2))\n",
        "print(\"Original array : \\n\", array)\n",
        "print(\"Flipped array : \\n\", np.fliplr(array))\n",
        "\n",
        "print(\"Flipped array : \\n\", np.flipud(array))"
      ],
      "metadata": {
        "colab": {
          "base_uri": "https://localhost:8080/"
        },
        "id": "QnsdBMoy45lT",
        "outputId": "c431cebe-074c-4cc9-d695-b10e3644d2d4"
      },
      "execution_count": null,
      "outputs": [
        {
          "output_type": "stream",
          "name": "stdout",
          "text": [
            "Original array : \n",
            " [[[0 1]\n",
            "  [2 3]]\n",
            "\n",
            " [[4 5]\n",
            "  [6 7]]]\n",
            "Flipped array : \n",
            " [[[2 3]\n",
            "  [0 1]]\n",
            "\n",
            " [[6 7]\n",
            "  [4 5]]]\n",
            "Flipped array : \n",
            " [[[4 5]\n",
            "  [6 7]]\n",
            "\n",
            " [[0 1]\n",
            "  [2 3]]]\n"
          ]
        }
      ]
    },
    {
      "cell_type": "markdown",
      "source": [
        "9/ Discuss the functionality of array_split()method-------uneven splits?\n",
        "- Array splitting in numpy is like a slice of cake or something means arrays as cake and we slice it by using split() method\n",
        "\n",
        "The split(),hsplit(),vsplit(),dsplit() functions are important tools for dividing arrays along various axes and dimensions, these functions were particularly useful when working with one-dimensional array, matrices or high dimensional datasets\n",
        "\n",
        "There are many methods to split numpy array;\n",
        "\n",
        "split numpy array using numpy.split()\n",
        "split numpy array using numpy.array_split()\n",
        "split numpy array using numpy.vsplit()\n",
        "split numpy array using numpy.hsplit()\n"
      ],
      "metadata": {
        "id": "u-ILrW0967pX"
      }
    },
    {
      "cell_type": "code",
      "source": [
        "import numpy as np\n",
        "array = np.arange(20)\n",
        "result = np.array_split(array, 5)\n",
        "print(\"Array:\")\n",
        "print(array)\n",
        "print(\"\\nResult after numpy.array_split():\")\n",
        "print(result)"
      ],
      "metadata": {
        "colab": {
          "base_uri": "https://localhost:8080/"
        },
        "id": "1uRzuaLB9vcg",
        "outputId": "f47760c2-a9fa-4a90-e9ce-00094c910b2a"
      },
      "execution_count": null,
      "outputs": [
        {
          "output_type": "stream",
          "name": "stdout",
          "text": [
            "Array:\n",
            "[ 0  1  2  3  4  5  6  7  8  9 10 11 12 13 14 15 16 17 18 19]\n",
            "\n",
            "Result after numpy.array_split():\n",
            "[array([0, 1, 2, 3]), array([4, 5, 6, 7]), array([ 8,  9, 10, 11]), array([12, 13, 14, 15]), array([16, 17, 18, 19])]\n"
          ]
        }
      ]
    },
    {
      "cell_type": "markdown",
      "source": [
        "10/ Explain the concept of vectorization and broadcasting---------array operations?\n",
        "-\n",
        "Vectorization is process of converting an algorithm from operating on a single value at a time to operating on a set of values(vector) at one time.\n",
        "\n",
        "It also use the concept of broadcasting for performing operations in arrays of different sizes.\n",
        "\n",
        "The numpy vectorize function (np.vectorize) is provided by python it accepts a nested sequence of objects or a numpy array as input and returns a single numpy array or a tuple of numpy array as a output.\n",
        "\n",
        "Broadcasting provides a mean of vectorizing array operations, it does this without making needless copies of data which leads to efficient algorithm implementation, the broadcasting over multiple array in numpy extension can raise cases where broadcasting is a bad idea because it lead to inefficient use of memory that slows down computation.\n",
        "\n",
        "The arrays can be broadcasted together if they are compatible with all dimensions, after broadcasting each array behaves oas is it had a shape equal to the element-wise maximum of shapes of the two input arrays."
      ],
      "metadata": {
        "id": "jhneeu0T7S8V"
      }
    },
    {
      "cell_type": "code",
      "source": [
        "# broadcsting of 1D array\n",
        "\n",
        "import numpy as np\n",
        "a = np.array([17,18,19])\n",
        "print(a)\n",
        "b = 3\n",
        "print(b)\n",
        "\n",
        "c = a + b\n",
        "print(c)"
      ],
      "metadata": {
        "colab": {
          "base_uri": "https://localhost:8080/"
        },
        "id": "d0vcn7R9CHCX",
        "outputId": "c2ab9fc9-3853-426b-c001-7acc7b742941"
      },
      "execution_count": null,
      "outputs": [
        {
          "output_type": "stream",
          "name": "stdout",
          "text": [
            "[17 18 19]\n",
            "3\n",
            "[20 21 22]\n"
          ]
        }
      ]
    },
    {
      "cell_type": "markdown",
      "source": [
        "**PRACTICAL QUESTIONS**"
      ],
      "metadata": {
        "id": "uAChQRvTDfn9"
      }
    },
    {
      "cell_type": "markdown",
      "source": [
        "1/ create a 3*3numpy array with random integers between 1 and 100 , then interchange its rows and columns.      "
      ],
      "metadata": {
        "id": "zPVTPfTMc6yM"
      }
    },
    {
      "cell_type": "code",
      "source": [
        "import numpy as np\n",
        "x = np.random.randint(1,100,(3,3,3))\n",
        "print(x)\n",
        "result = np.swapaxes(x,0,1)\n",
        "print(result)"
      ],
      "metadata": {
        "colab": {
          "base_uri": "https://localhost:8080/"
        },
        "id": "3_MmsY_8gPFm",
        "outputId": "9a0cae74-e6db-4f48-aa57-370c2aabd952"
      },
      "execution_count": 5,
      "outputs": [
        {
          "output_type": "stream",
          "name": "stdout",
          "text": [
            "[[[ 1 16 55]\n",
            "  [73 83 67]\n",
            "  [50 69  3]]\n",
            "\n",
            " [[25 91 96]\n",
            "  [95 11 50]\n",
            "  [75 91 37]]\n",
            "\n",
            " [[17 57 64]\n",
            "  [26 80 44]\n",
            "  [82 49 93]]]\n",
            "[[[ 1 16 55]\n",
            "  [25 91 96]\n",
            "  [17 57 64]]\n",
            "\n",
            " [[73 83 67]\n",
            "  [95 11 50]\n",
            "  [26 80 44]]\n",
            "\n",
            " [[50 69  3]\n",
            "  [75 91 37]\n",
            "  [82 49 93]]]\n"
          ]
        }
      ]
    },
    {
      "cell_type": "markdown",
      "source": [
        "2/ Generate a 1d numpy array with 10 elements,reshape it into a 2*5 array then into 5*2 array."
      ],
      "metadata": {
        "id": "LiEH81BRdWoU"
      }
    },
    {
      "cell_type": "code",
      "source": [
        "import numpy as np\n",
        "array = np.arange(10)\n",
        "print(array)\n",
        "array = array.reshape(2,5)\n",
        "print(array)\n",
        "array = array.reshape(5,2)\n",
        "print(array)"
      ],
      "metadata": {
        "colab": {
          "base_uri": "https://localhost:8080/"
        },
        "id": "abhgoHG2jlYT",
        "outputId": "8c8686ca-82fe-4764-f511-1bc3305eef77"
      },
      "execution_count": 6,
      "outputs": [
        {
          "output_type": "stream",
          "name": "stdout",
          "text": [
            "[0 1 2 3 4 5 6 7 8 9]\n",
            "[[0 1 2 3 4]\n",
            " [5 6 7 8 9]]\n",
            "[[0 1]\n",
            " [2 3]\n",
            " [4 5]\n",
            " [6 7]\n",
            " [8 9]]\n"
          ]
        }
      ]
    },
    {
      "cell_type": "markdown",
      "source": [
        "3/ create a 4*4numpy array with random float values,add a border of zeros around it resulting it into a 6*6 array."
      ],
      "metadata": {
        "id": "T9ZfWTwSdtvO"
      }
    },
    {
      "cell_type": "code",
      "source": [
        "import numpy as np\n",
        "x = np.random.rand(4,4)\n",
        "print(x)\n",
        "y = np.pad(x, pad_width=1, mode='constant', constant_values=0)\n",
        "print(y)"
      ],
      "metadata": {
        "colab": {
          "base_uri": "https://localhost:8080/"
        },
        "id": "e3rDAwzbooDA",
        "outputId": "e3f602e5-e701-46c7-c8ba-ad891337b207"
      },
      "execution_count": 7,
      "outputs": [
        {
          "output_type": "stream",
          "name": "stdout",
          "text": [
            "[[0.11684912 0.09207504 0.6273814  0.48668934]\n",
            " [0.36788103 0.86947569 0.45361134 0.33573209]\n",
            " [0.96909448 0.98555166 0.03842187 0.62291753]\n",
            " [0.81480066 0.60662318 0.05014003 0.06242845]]\n",
            "[[0.         0.         0.         0.         0.         0.        ]\n",
            " [0.         0.11684912 0.09207504 0.6273814  0.48668934 0.        ]\n",
            " [0.         0.36788103 0.86947569 0.45361134 0.33573209 0.        ]\n",
            " [0.         0.96909448 0.98555166 0.03842187 0.62291753 0.        ]\n",
            " [0.         0.81480066 0.60662318 0.05014003 0.06242845 0.        ]\n",
            " [0.         0.         0.         0.         0.         0.        ]]\n"
          ]
        }
      ]
    },
    {
      "cell_type": "markdown",
      "source": [
        "4/ using numpy create an array of integer from 10 to 60 with a step of 5."
      ],
      "metadata": {
        "id": "cv97GnaIeIH8"
      }
    },
    {
      "cell_type": "code",
      "source": [
        "import numpy as np\n",
        "array = np.arange(10,60,5)\n",
        "print(array)"
      ],
      "metadata": {
        "colab": {
          "base_uri": "https://localhost:8080/"
        },
        "id": "cIPqOu3InyHD",
        "outputId": "4bbd700b-39b6-45d3-aed3-87f596128bbc"
      },
      "execution_count": 1,
      "outputs": [
        {
          "output_type": "stream",
          "name": "stdout",
          "text": [
            "[10 15 20 25 30 35 40 45 50 55]\n"
          ]
        }
      ]
    },
    {
      "cell_type": "markdown",
      "source": [
        "5/ Create a numpy array of strings[python,numpy,pandas], apply different case transformation to each element."
      ],
      "metadata": {
        "id": "3b6xV_zneU_W"
      }
    },
    {
      "cell_type": "code",
      "source": [
        "import numpy as np\n",
        "x = np.array(['python','numpy','pandas'])\n",
        "print(x)\n",
        "print(np.char.upper(x))\n",
        "print(np.char.lower(x))\n",
        "print(np.char.title(x))\n",
        "print(np.char.capitalize(x))"
      ],
      "metadata": {
        "colab": {
          "base_uri": "https://localhost:8080/"
        },
        "id": "Z_8vmQ7jsNMv",
        "outputId": "ed659d84-aa30-4fa2-d946-918c33f22753"
      },
      "execution_count": 8,
      "outputs": [
        {
          "output_type": "stream",
          "name": "stdout",
          "text": [
            "['python' 'numpy' 'pandas']\n",
            "['PYTHON' 'NUMPY' 'PANDAS']\n",
            "['python' 'numpy' 'pandas']\n",
            "['Python' 'Numpy' 'Pandas']\n",
            "['Python' 'Numpy' 'Pandas']\n"
          ]
        }
      ]
    },
    {
      "cell_type": "markdown",
      "source": [
        "6/ Generate a numpy array of words insert a space between each character of every word in the array."
      ],
      "metadata": {
        "id": "-SgAXB1YeuTH"
      }
    },
    {
      "cell_type": "code",
      "source": [
        "import numpy as np\n",
        "x = np.array(['python','numpy','pandas'])\n",
        "print(x)\n",
        "new_array = np.char.join(' ',x)\n",
        "print(new_array)\n",
        "\n"
      ],
      "metadata": {
        "colab": {
          "base_uri": "https://localhost:8080/"
        },
        "id": "Pew_ZtppsdWm",
        "outputId": "8702ae0d-accc-4dd7-87c7-68132389cd3f"
      },
      "execution_count": 9,
      "outputs": [
        {
          "output_type": "stream",
          "name": "stdout",
          "text": [
            "['python' 'numpy' 'pandas']\n",
            "['p y t h o n' 'n u m p y' 'p a n d a s']\n"
          ]
        }
      ]
    },
    {
      "cell_type": "markdown",
      "source": [
        "7/ Create two 2d numpy arrays and perform element-wise addition,subtraction,multiplication,and division."
      ],
      "metadata": {
        "id": "TDSugjkofAkw"
      }
    },
    {
      "cell_type": "code",
      "source": [
        "import numpy as np\n",
        "x = np.array([[1,2,3],[4,5,6]])\n",
        "y = np.array([[7,8,9],[10,11,12]])\n",
        "print(x)\n",
        "print(y)\n",
        "print(np.add(x,y))\n",
        "print(np.subtract(x,y))\n",
        "print(np.multiply(x,y))\n",
        "print(np.divide(x,y))\n"
      ],
      "metadata": {
        "colab": {
          "base_uri": "https://localhost:8080/"
        },
        "id": "HxwB0pPxsxgd",
        "outputId": "efd0fc98-e54c-43c8-f68e-a4148b33b13a"
      },
      "execution_count": 11,
      "outputs": [
        {
          "output_type": "stream",
          "name": "stdout",
          "text": [
            "[[1 2 3]\n",
            " [4 5 6]]\n",
            "[[ 7  8  9]\n",
            " [10 11 12]]\n",
            "[[ 8 10 12]\n",
            " [14 16 18]]\n",
            "[[-6 -6 -6]\n",
            " [-6 -6 -6]]\n",
            "[[ 7 16 27]\n",
            " [40 55 72]]\n",
            "[[0.14285714 0.25       0.33333333]\n",
            " [0.4        0.45454545 0.5       ]]\n"
          ]
        }
      ]
    },
    {
      "cell_type": "markdown",
      "source": [
        "8/ use numpy to create a 5*5 identity matrix, then extract its diagonal elements."
      ],
      "metadata": {
        "id": "3jiF9qeyfWAr"
      }
    },
    {
      "cell_type": "code",
      "source": [
        "import numpy as np\n",
        "x = np.eye(5)\n",
        "print(x)\n",
        "print(np.diag(x))\n"
      ],
      "metadata": {
        "colab": {
          "base_uri": "https://localhost:8080/"
        },
        "id": "jFyKiYNktNSB",
        "outputId": "280ce9a1-a810-40a7-a9a6-226421d69b24"
      },
      "execution_count": 12,
      "outputs": [
        {
          "output_type": "stream",
          "name": "stdout",
          "text": [
            "[[1. 0. 0. 0. 0.]\n",
            " [0. 1. 0. 0. 0.]\n",
            " [0. 0. 1. 0. 0.]\n",
            " [0. 0. 0. 1. 0.]\n",
            " [0. 0. 0. 0. 1.]]\n",
            "[1. 1. 1. 1. 1.]\n"
          ]
        }
      ]
    },
    {
      "cell_type": "markdown",
      "source": [
        "9/ generate a numpy array of 100 random integers between 0 and 1000, find and display all prime numbers in this array."
      ],
      "metadata": {
        "id": "48Ocp8-KfoOy"
      }
    },
    {
      "cell_type": "code",
      "source": [
        "import numpy as np\n",
        "x = np.random.randint(0,1000,100)\n",
        "print(x)\n",
        "display_prime = []\n",
        "for num in x:\n",
        "  if num > 1:\n",
        "    for i in range(2,num):\n",
        "      if (num % i) == 0:\n",
        "        break\n",
        "    else:\n",
        "      display_prime.append(num)"
      ],
      "metadata": {
        "colab": {
          "base_uri": "https://localhost:8080/"
        },
        "id": "U-MFl41ytcVf",
        "outputId": "9f7ffb08-3da2-4f80-b064-285be3be2230"
      },
      "execution_count": 15,
      "outputs": [
        {
          "output_type": "stream",
          "name": "stdout",
          "text": [
            "[886 284 867 951 721  57 158 565 595 860 165 325 254 874 737 136 649 241\n",
            " 513 733 935 864  68 914 118 493 939   1 346 239 368 961 639 378 609  61\n",
            " 436  33 382 699 740  11 249 392 665 257 212 779 606 695 129 180 420  76\n",
            " 830 835 559  44 751 719 711 892 460 325 643 127 525 153 207 872 190  87\n",
            " 230 227 648 213 618 577 658 784 170  23 120 764  74 324 596 931  53 462\n",
            " 158 938 676 227 456 205 341 740 485 133]\n"
          ]
        }
      ]
    },
    {
      "cell_type": "markdown",
      "source": [
        "10/ create a numpy array representing daily temperature for a month,calculate and display the weekly averages."
      ],
      "metadata": {
        "id": "66Mme9BGf6Yx"
      }
    },
    {
      "cell_type": "code",
      "source": [
        "import random\n",
        "import numpy as np\n",
        "temperatures = [\n",
        "    random.randint(20, 30) for _ in range(30)\n",
        "]\n",
        "print(temperatures)\n",
        "print(np.mean(temperatures))\n",
        "print(np.median(temperatures))\n",
        "print(np.std(temperatures))\n",
        "\n",
        "averages = np.mean(temperatures)\n",
        "print(averages)\n",
        "\n",
        "\n"
      ],
      "metadata": {
        "colab": {
          "base_uri": "https://localhost:8080/"
        },
        "id": "trGCfsOlgMiV",
        "outputId": "0d688e14-644d-4725-98a7-ab13327959c2"
      },
      "execution_count": 18,
      "outputs": [
        {
          "output_type": "stream",
          "name": "stdout",
          "text": [
            "[21, 20, 29, 24, 23, 22, 20, 30, 21, 21, 22, 21, 22, 30, 22, 22, 22, 20, 28, 23, 28, 28, 23, 28, 27, 28, 29, 26, 21, 26]\n",
            "24.233333333333334\n",
            "23.0\n",
            "3.3534393621408394\n",
            "24.233333333333334\n"
          ]
        }
      ]
    }
  ]
}